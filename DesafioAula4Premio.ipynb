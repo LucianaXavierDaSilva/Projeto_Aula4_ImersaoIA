{
  "nbformat": 4,
  "nbformat_minor": 0,
  "metadata": {
    "colab": {
      "provenance": [],
      "authorship_tag": "ABX9TyMgoyHYqwXLAdbGo3FHKtVW",
      "include_colab_link": true
    },
    "kernelspec": {
      "name": "python3",
      "display_name": "Python 3"
    },
    "language_info": {
      "name": "python"
    }
  },
  "cells": [
    {
      "cell_type": "markdown",
      "metadata": {
        "id": "view-in-github",
        "colab_type": "text"
      },
      "source": [
        "<a href=\"https://colab.research.google.com/github/LucianaXavierDaSilva/Projeto_Aula4_ImersaoIA/blob/main/DesafioAula4Premio.ipynb\" target=\"_parent\"><img src=\"https://colab.research.google.com/assets/colab-badge.svg\" alt=\"Open In Colab\"/></a>"
      ]
    },
    {
      "cell_type": "code",
      "execution_count": 13,
      "metadata": {
        "colab": {
          "base_uri": "https://localhost:8080/",
          "height": 802
        },
        "id": "j63HuSzhZAPZ",
        "outputId": "f9d75513-5358-46f0-ea25-40f7e5e5ce9a"
      },
      "outputs": [
        {
          "output_type": "stream",
          "name": "stdout",
          "text": [
            " 🍯  🍯  🍯  🍯  🍯  🍯  🍯  🍯  🍯  🍯\n",
            " 🍯                                    🍯\n",
            " 🍯     BEM-VINDO AO CHAT DO POOH!     🍯\n",
            " 🍯                                    🍯\n",
            " 🍯  🍯  🍯  🍯  🍯  🍯  🍯  🍯  🍯  🍯 \n",
            "\n",
            "Pooh: Olá! Eu sou o Ursinho Pooh! Qual o seu nome? \n",
            "\n",
            "Você: Luciana\n",
            "\n",
            "Pooh: Olá, Luciana, que bom ter você por aqui! 😊🍯 \n",
            "\n",
            "Pooh: Quantos anos você tem? 4\n",
            "\n",
            "Pooh: No que eu posso te ajudar hoje? Você quer: \n",
            "\n",
            "Pooh: 1. Informações sobre jogos? \n",
            "\n",
            "Pooh: 2. Informações sobre filmes? \n",
            "\n",
            "Pooh: 3. Outra coisa? 😊 \n",
            "\n",
            "Você: Qual\n",
            "\n",
            "Pooh: Por favor, digite um número.\n",
            "\n",
            "Você: 3\n",
            "\n",
            "Você: Qual o nome do autor do Sítio do Pica Pau Amarelo?\n",
            "\n",
            "Pooh: Monteiro Lobato\n",
            "\n",
            "-------------------------------------------\n"
          ]
        },
        {
          "output_type": "display_data",
          "data": {
            "text/plain": [
              "<IPython.core.display.Markdown object>"
            ],
            "text/markdown": "> **user**: Qual o nome do autor do Sítio do Pica Pau Amarelo?"
          },
          "metadata": {}
        },
        {
          "output_type": "stream",
          "name": "stdout",
          "text": [
            "-------------------------------------------\n",
            "\n"
          ]
        },
        {
          "output_type": "display_data",
          "data": {
            "text/plain": [
              "<IPython.core.display.Markdown object>"
            ],
            "text/markdown": "> **model**: Monteiro Lobato"
          },
          "metadata": {}
        },
        {
          "output_type": "stream",
          "name": "stdout",
          "text": [
            "-------------------------------------------\n",
            "\n",
            "Você: fim\n",
            "\n",
            "Pooh: Até mais! 👋🍯\n"
          ]
        }
      ],
      "source": [
        "import random\n",
        "import time\n",
        "import textwrap\n",
        "from IPython.display import display, Markdown\n",
        "\n",
        "#Instalando o SDK do Google\n",
        "!pip install -q -U google-generativeai\n",
        "\n",
        "import google.generativeai as genai\n",
        "from google.colab import userdata\n",
        "GOOGLE_API_KEY= userdata.get(\"secret_key\")\n",
        "genai.configure(api_key=GOOGLE_API_KEY)\n",
        "\n",
        "# --- Funções auxiliares ---\n",
        "\n",
        "def print_pooh(texto):\n",
        "    print(f\"Pooh: {texto}\")\n",
        "\n",
        "def processar_entrada(entrada, idade):\n",
        "    \"\"\"Processa a entrada do usuário e gera uma resposta usando o Gemini.\"\"\"\n",
        "    global chat\n",
        "    resposta = chat.send_message(entrada)\n",
        "    return resposta.text\n",
        "\n",
        "def to_markdown(text):\n",
        "    text = text.replace('•', '  *')\n",
        "    return Markdown(textwrap.indent(text, '> ', predicate=lambda _: True))\n",
        "\n",
        "def exibir_chat(chat_history):\n",
        "    \"\"\"Exibe o histórico da conversa formatado.\"\"\"\n",
        "    print(\"\\n-------------------------------------------\")\n",
        "    for message in chat_history:\n",
        "        display(to_markdown(f'**{message.role}**: {message.parts[0].text}'))\n",
        "        print(\"-------------------------------------------\\n\")\n",
        "\n",
        "# --- Configuração do Google Gemini ---\n",
        "\n",
        "GOOGLE_API_KEY = userdata.get(\"secret_key\")\n",
        "genai.configure(api_key=GOOGLE_API_KEY)\n",
        "\n",
        "generation_config = {\n",
        "    \"candidate_count\": 1,\n",
        "    \"temperature\": 0.5,\n",
        "}\n",
        "\n",
        "safety_settings={\n",
        "    'HATE': 'BLOCK_NONE',\n",
        "    'HARASSMENT': 'BLOCK_NONE',\n",
        "    'SEXUAL' : 'BLOCK_NONE',\n",
        "    'DANGEROUS' : 'BLOCK_NONE'\n",
        "}\n",
        "\n",
        "model = genai.GenerativeModel(model_name='gemini-1.0-pro',\n",
        "                           generation_config=generation_config,\n",
        "                           safety_settings=safety_settings,)\n",
        "\n",
        "chat = model.start_chat(history=[])\n",
        "\n",
        "# --- Inicialização do chatbot ---\n",
        "\n",
        "print(\" 🍯  🍯  🍯  🍯  🍯  🍯  🍯  🍯  🍯  🍯\")\n",
        "print(\" 🍯                                    🍯\")\n",
        "print(\" 🍯     BEM-VINDO AO CHAT DO POOH!     🍯\")\n",
        "print(\" 🍯                                    🍯\")\n",
        "print(\" 🍯  🍯  🍯  🍯  🍯  🍯  🍯  🍯  🍯  🍯 \\n\")\n",
        "time.sleep(1)\n",
        "\n",
        "print_pooh(\"Olá! Eu sou o Ursinho Pooh! Qual o seu nome? \\n\")\n",
        "nome_crianca = input(\"Você: \")\n",
        "print()\n",
        "print_pooh(f\"Olá, {nome_crianca}, que bom ter você por aqui! 😊🍯 \\n\")\n",
        "\n",
        "while True:\n",
        "    try:\n",
        "        idade_crianca = int(input(\"Pooh: Quantos anos você tem? \"))\n",
        "\n",
        "        break\n",
        "    except ValueError:\n",
        "        print_pooh(\"Por favor, digite um número para sua idade. \\n\")\n",
        "\n",
        "# Pergunta o que a criança deseja\n",
        "print()\n",
        "print_pooh(\"No que eu posso te ajudar hoje? Você quer: \\n\")\n",
        "print_pooh(\"1. Informações sobre jogos? \\n\")\n",
        "print_pooh(\"2. Informações sobre filmes? \\n\")\n",
        "print_pooh(\"3. Outra coisa? 😊 \\n\")\n",
        "\n",
        "while True:\n",
        "    try:\n",
        "        opcao = int(input(\"Você: \"))\n",
        "        print()\n",
        "        if opcao in [1, 2, 3]:\n",
        "            break\n",
        "        else:\n",
        "            print()\n",
        "            print_pooh(\"Por favor, escolha uma opção válida (1, 2 ou 3).\")\n",
        "    except ValueError:\n",
        "        print()\n",
        "        print_pooh(\"Por favor, digite um número.\")\n",
        "        print()\n",
        "\n",
        "# --- Loop principal ---\n",
        "\n",
        "while True:\n",
        "    entrada_usuario = input(\"Você: \")\n",
        "    print()\n",
        "    if entrada_usuario.lower() == \"fim\":\n",
        "        break\n",
        "\n",
        "    resposta_pooh = processar_entrada(entrada_usuario, idade_crianca)\n",
        "    print_pooh(resposta_pooh)\n",
        "\n",
        "    exibir_chat(chat.history)\n",
        "\n",
        "print_pooh(\"Até mais! 👋🍯\")"
      ]
    }
  ]
}