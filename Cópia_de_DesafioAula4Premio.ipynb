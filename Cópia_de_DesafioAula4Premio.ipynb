{
  "nbformat": 4,
  "nbformat_minor": 0,
  "metadata": {
    "colab": {
      "provenance": [],
      "mount_file_id": "1In56Vonfb8Tr09OxkmPeC0zrTpsNEnZf",
      "authorship_tag": "ABX9TyPIsKs5vFn9+BabFv10NW+L",
      "include_colab_link": true
    },
    "kernelspec": {
      "name": "python3",
      "display_name": "Python 3"
    },
    "language_info": {
      "name": "python"
    }
  },
  "cells": [
    {
      "cell_type": "markdown",
      "metadata": {
        "id": "view-in-github",
        "colab_type": "text"
      },
      "source": [
        "<a href=\"https://colab.research.google.com/github/LucianaXavierDaSilva/Projeto_Aula4_ImersaoIA/blob/main/C%C3%B3pia_de_DesafioAula4Premio.ipynb\" target=\"_parent\"><img src=\"https://colab.research.google.com/assets/colab-badge.svg\" alt=\"Open In Colab\"/></a>"
      ]
    },
    {
      "cell_type": "code",
      "source": [
        "import random\n",
        "import time\n",
        "import textwrap\n",
        "from IPython.display import display, Markdown, Image\n",
        "\n",
        "#Instalando o SDK do Google\n",
        "!pip install -q -U google-generativeai\n",
        "!pip install requests\n",
        "import requests\n",
        "\n",
        "import google.generativeai as genai\n",
        "from google.colab import userdata\n",
        "GOOGLE_API_KEY= userdata.get(\"secret_key\")\n",
        "genai.configure(api_key=GOOGLE_API_KEY)\n",
        "\n",
        "# --- Funções auxiliares ---\n",
        "\n",
        "def print_pooh(texto):\n",
        "    print(f\"Pooh: {texto}\")\n",
        "\n",
        "def processar_entrada(entrada, idade):\n",
        "    \"\"\"Processa a entrada do usuário e gera uma resposta usando o Gemini.\"\"\"\n",
        "    global chat\n",
        "    resposta = chat.send_message(entrada)\n",
        "    return resposta.text\n",
        "\n",
        "def to_markdown(text):\n",
        "    text = text.replace('•', '  *')\n",
        "    return Markdown(textwrap.indent(text, '> ', predicate=lambda _: True))\n",
        "\n",
        "# --- Configuração do Google Gemini ---\n",
        "\n",
        "GOOGLE_API_KEY = userdata.get(\"secret_key\")\n",
        "genai.configure(api_key=GOOGLE_API_KEY)\n",
        "\n",
        "generation_config = {\n",
        "    \"candidate_count\": 1,\n",
        "    \"temperature\": 0.5,\n",
        "}\n",
        "\n",
        "safety_settings={\n",
        "    'HATE': 'BLOCK_NONE',\n",
        "    'HARASSMENT': 'BLOCK_NONE',\n",
        "    'SEXUAL' : 'BLOCK_NONE',\n",
        "    'DANGEROUS' : 'BLOCK_NONE'\n",
        "}\n",
        "\n",
        "model = genai.GenerativeModel(model_name='gemini-1.0-pro',\n",
        "                           generation_config=generation_config,\n",
        "                           safety_settings=safety_settings,)\n",
        "\n",
        "chat = model.start_chat(history=[])\n",
        "\n",
        "# --- Inicialização do chatbot ---\n",
        "\n",
        "# Baixa a imagem da URL\n",
        "url_imagem = 'https://imgbox.com/hKkDPlXK'\n",
        "response = requests.get(url_imagem)\n",
        "with open('pooh.png', 'wb') as f:\n",
        "    f.write(response.content)\n",
        "\n",
        "# Exibe a imagem baixada\n",
        "display(Image(filename='pooh.png'))\n",
        "\n",
        "print(\" 🍯  🍯  🍯  🍯  🍯  🍯  🍯  🍯  🍯  🍯  🍯  🍯  🍯\")\n",
        "print(\" 🍯                                         🍯\")\n",
        "print(\" 🍯     BEM-VINDO AO CHAT DO POOH!     🍯\")\n",
        "print(\" 🍯                                         🍯\")\n",
        "print(\" 🍯  🍯  🍯  🍯  🍯  🍯  🍯  🍯  🍯  🍯  🍯  🍯  🍯\\n\")\n",
        "time.sleep(1)\n",
        "\n",
        "print_pooh(\"Olá! Eu sou o Ursinho Pooh! Qual o seu nome?\")\n",
        "nome_crianca = input(\"Você: \")\n",
        "print_pooh(f\"Olá, {nome_crianca}, que bom ter você por aqui! 😊🍯\")\n",
        "\n",
        "while True:\n",
        "    try:\n",
        "        idade_crianca = int(input(\"Pooh: Quantos anos você tem? \"))\n",
        "        break\n",
        "    except ValueError:\n",
        "        print_pooh(\"Por favor, digite um número para sua idade.\")\n",
        "\n",
        "# --- Loop principal ---\n",
        "\n",
        "while True:\n",
        "    entrada_usuario = input(\"Você: \")\n",
        "    if entrada_usuario.lower() == \"fim\":\n",
        "        break\n",
        "\n",
        "    resposta_pooh = processar_entrada(entrada_usuario, idade_crianca)\n",
        "    print_pooh(resposta_pooh)\n",
        "\n",
        "    # Imprime o histórico da conversa\n",
        "    for message in chat.history:\n",
        "        display(to_markdown(f'**{message.role}**: {message.parts[0].text}'))\n",
        "        print('-------------------------------------------')\n",
        "\n",
        "print_pooh(\"Até mais! 👋🍯\")"
      ],
      "metadata": {
        "id": "yFYNZkFU0k0D",
        "colab": {
          "base_uri": "https://localhost:8080/",
          "height": 329
        },
        "outputId": "bd805a7a-b1d2-4ca4-9683-e82b37df0722"
      },
      "execution_count": null,
      "outputs": [
        {
          "output_type": "stream",
          "name": "stdout",
          "text": [
            "Requirement already satisfied: requests in /usr/local/lib/python3.10/dist-packages (2.31.0)\n",
            "Requirement already satisfied: charset-normalizer<4,>=2 in /usr/local/lib/python3.10/dist-packages (from requests) (3.3.2)\n",
            "Requirement already satisfied: idna<4,>=2.5 in /usr/local/lib/python3.10/dist-packages (from requests) (3.7)\n",
            "Requirement already satisfied: urllib3<3,>=1.21.1 in /usr/local/lib/python3.10/dist-packages (from requests) (2.0.7)\n",
            "Requirement already satisfied: certifi>=2017.4.17 in /usr/local/lib/python3.10/dist-packages (from requests) (2024.2.2)\n"
          ]
        },
        {
          "output_type": "display_data",
          "data": {
            "image/png": "[encoded data removed]",
            "text/plain": [
              "<IPython.core.display.Image object>"
            ]
          },
          "metadata": {}
        },
        {
          "output_type": "stream",
          "name": "stdout",
          "text": [
            " 🍯  🍯  🍯  🍯  🍯  🍯  🍯  🍯  🍯  🍯  🍯  🍯  🍯\n",
            " 🍯                                         🍯\n",
            " 🍯     BEM-VINDO AO CHAT DO POOH!     🍯\n",
            " 🍯                                         🍯\n",
            " 🍯  🍯  🍯  🍯  🍯  🍯  🍯  🍯  🍯  🍯  🍯  🍯  🍯\n",
            "\n",
            "Pooh: Olá! Eu sou o Ursinho Pooh! Qual o seu nome?\n",
            "Você: Luciana\n",
            "Pooh: Olá, Luciana, que bom ter você por aqui! 😊🍯\n",
            "Pooh: Quantos anos você tem? 4\n",
            "Você: fim\n",
            "Pooh: Até mais! 👋🍯\n"
          ]
        }
      ]
    },
    {
      "cell_type": "markdown",
      "source": [],
      "metadata": {
        "id": "GjvVSHfy0kfB"
      }
    }
  ]
}